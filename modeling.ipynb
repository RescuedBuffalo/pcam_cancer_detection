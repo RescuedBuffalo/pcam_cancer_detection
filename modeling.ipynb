{
 "cells": [
  {
   "cell_type": "markdown",
   "id": "cell_0",
   "metadata": {},
   "source": [
    "# Histopathologic Cancer Detection - Modeling\n",
    "\n",
    "**CU Boulder CSCA-5642**"
   ]
  },
  {
   "cell_type": "markdown",
   "id": "cell_1",
   "metadata": {},
   "source": [
    "## 1. Setup"
   ]
  },
  {
   "cell_type": "code",
   "execution_count": 1,
   "id": "cell_2",
   "metadata": {},
   "outputs": [
    {
     "name": "stdout",
     "output_type": "stream",
     "text": [
      "TensorFlow: 2.20.0\n",
      "GPU: 0 available\n"
     ]
    }
   ],
   "source": [
    "import os, json, gc\n",
    "from datetime import datetime\n",
    "import h5py\n",
    "import numpy as np\n",
    "import pandas as pd\n",
    "import matplotlib.pyplot as plt\n",
    "import seaborn as sns\n",
    "from sklearn.metrics import (\n",
    "    roc_auc_score, accuracy_score, confusion_matrix, \n",
    "    classification_report, precision_recall_curve\n",
    ")\n",
    "\n",
    "import tensorflow as tf\n",
    "from tensorflow import keras\n",
    "from tensorflow.keras import layers, models, optimizers, callbacks\n",
    "from tensorflow.keras.applications import ResNet50\n",
    "from tensorflow.keras.preprocessing.image import ImageDataGenerator\n",
    "\n",
    "sns.set_style('darkgrid')\n",
    "plt.rcParams['figure.figsize'] = (12, 8)\n",
    "\n",
    "DATA_DIR = 'data/'\n",
    "RESULTS_DIR = 'results/'\n",
    "MODELS_DIR = os.path.join(RESULTS_DIR, 'saved_models')\n",
    "os.makedirs(RESULTS_DIR, exist_ok=True)\n",
    "os.makedirs(MODELS_DIR, exist_ok=True)\n",
    "\n",
    "np.random.seed(42)\n",
    "tf.random.set_seed(42)\n",
    "\n",
    "print(f'TensorFlow: {tf.__version__}')\n",
    "print(f'GPU: {len(tf.config.list_physical_devices(\"GPU\"))} available')"
   ]
  },
  {
   "cell_type": "markdown",
   "id": "cell_3",
   "metadata": {},
   "source": [
    "## 2. Data Loading"
   ]
  },
  {
   "cell_type": "code",
   "execution_count": 2,
   "id": "cell_4",
   "metadata": {},
   "outputs": [
    {
     "name": "stdout",
     "output_type": "stream",
     "text": [
      "Train: (262144, 96, 96, 3), Valid: (32768, 96, 96, 3)\n",
      "Class balance: 50.0% tumor\n"
     ]
    }
   ],
   "source": [
    "def load_h5_data(filename, key):\n",
    "    with h5py.File(os.path.join(DATA_DIR, filename), 'r') as f:\n",
    "        return f[key][:]\n",
    "\n",
    "train_x = load_h5_data('camelyonpatch_level_2_split_train_x.h5', 'x')\n",
    "train_y = load_h5_data('camelyonpatch_level_2_split_train_y.h5', 'y').flatten()\n",
    "valid_x = load_h5_data('camelyonpatch_level_2_split_valid_x.h5', 'x')\n",
    "valid_y = load_h5_data('camelyonpatch_level_2_split_valid_y.h5', 'y').flatten()\n",
    "\n",
    "print(f'Train: {train_x.shape}, Valid: {valid_x.shape}')\n",
    "print(f'Class balance: {train_y.mean():.1%} tumor')"
   ]
  },
  {
   "cell_type": "markdown",
   "id": "cell_5",
   "metadata": {},
   "source": [
    "## 3. Data Preprocessing"
   ]
  },
  {
   "cell_type": "markdown",
   "id": "cell_6",
   "metadata": {},
   "source": [
    "### 3.1 Quick Mode (Optional)"
   ]
  },
  {
   "cell_type": "code",
   "execution_count": 3,
   "id": "cell_7",
   "metadata": {},
   "outputs": [
    {
     "name": "stdout",
     "output_type": "stream",
     "text": [
      "Quick mode: Using 20,000 samples (50.0% tumor)\n"
     ]
    }
   ],
   "source": [
    "QUICK_MODE = True\n",
    "QUICK_SIZE = 20000\n",
    "\n",
    "if QUICK_MODE:\n",
    "    tumor_idx = np.where(train_y == 1)[0]\n",
    "    normal_idx = np.where(train_y == 0)[0]\n",
    "    samples_per_class = QUICK_SIZE // 2\n",
    "    \n",
    "    np.random.seed(42)\n",
    "    selected = np.concatenate([\n",
    "        np.random.choice(tumor_idx, samples_per_class, replace=False),\n",
    "        np.random.choice(normal_idx, samples_per_class, replace=False)\n",
    "    ])\n",
    "    np.random.shuffle(selected)\n",
    "    \n",
    "    train_x = train_x[selected]\n",
    "    train_y = train_y[selected]\n",
    "    print(f'Quick mode: Using {len(train_x):,} samples ({train_y.mean():.1%} tumor)')\n",
    "else:\n",
    "    print(f'Full mode: Using {len(train_x):,} samples')"
   ]
  },
  {
   "cell_type": "markdown",
   "id": "cell_8",
   "metadata": {},
   "source": [
    "### 3.2 Normalization & Augmentation"
   ]
  },
  {
   "cell_type": "code",
   "execution_count": 4,
   "id": "cell_9",
   "metadata": {},
   "outputs": [
    {
     "name": "stdout",
     "output_type": "stream",
     "text": [
      "Training steps/epoch: 313\n"
     ]
    }
   ],
   "source": [
    "def normalize_01(x):\n",
    "    return x / 255.0\n",
    "\n",
    "train_datagen = ImageDataGenerator(\n",
    "    rotation_range=180,\n",
    "    horizontal_flip=True,\n",
    "    vertical_flip=True,\n",
    "    zoom_range=0.1,\n",
    "    brightness_range=[0.9, 1.1],\n",
    "    width_shift_range=0.1,\n",
    "    height_shift_range=0.1,\n",
    "    preprocessing_function=normalize_01\n",
    ")\n",
    "\n",
    "valid_datagen = ImageDataGenerator(preprocessing_function=normalize_01)\n",
    "\n",
    "BATCH_SIZE = 64\n",
    "train_generator = train_datagen.flow(train_x, train_y, batch_size=BATCH_SIZE, shuffle=True)\n",
    "valid_generator = valid_datagen.flow(valid_x, valid_y, batch_size=BATCH_SIZE, shuffle=False)\n",
    "\n",
    "print(f'Training steps/epoch: {len(train_generator)}')"
   ]
  },
  {
   "cell_type": "markdown",
   "id": "cell_10",
   "metadata": {},
   "source": [
    "## 4. Model Architectures"
   ]
  },
  {
   "cell_type": "code",
   "execution_count": 5,
   "id": "cell_11",
   "metadata": {},
   "outputs": [],
   "source": [
    "def create_simple_cnn():\n",
    "    model = models.Sequential([\n",
    "        layers.Input(shape=(96, 96, 3)),\n",
    "        layers.Conv2D(32, 3, activation='relu', padding='same'),\n",
    "        layers.MaxPooling2D(2),\n",
    "        layers.Dropout(0.25),\n",
    "        layers.Conv2D(64, 3, activation='relu', padding='same'),\n",
    "        layers.MaxPooling2D(2),\n",
    "        layers.Dropout(0.25),\n",
    "        layers.GlobalAveragePooling2D(),\n",
    "        layers.Dense(128, activation='relu'),\n",
    "        layers.Dropout(0.5),\n",
    "        layers.Dense(1, activation='sigmoid')\n",
    "    ])\n",
    "    return model\n",
    "\n",
    "def create_resnet50():\n",
    "    base_model = ResNet50(\n",
    "        include_top=False,\n",
    "        weights=None,\n",
    "        input_shape=(96, 96, 3),\n",
    "        pooling='avg'\n",
    "    )\n",
    "    model = models.Sequential([\n",
    "        base_model,\n",
    "        layers.Dense(256, activation='relu'),\n",
    "        layers.Dropout(0.5),\n",
    "        layers.Dense(1, activation='sigmoid')\n",
    "    ])\n",
    "    return model\n",
    "\n",
    "def create_efficientnet(dropout_rate=0.25):\n",
    "    model = models.Sequential([\n",
    "        layers.Input(shape=(96, 96, 3)),\n",
    "        layers.Conv2D(32, 3, strides=2, padding='same', activation='relu'),\n",
    "        layers.BatchNormalization(),\n",
    "        layers.Conv2D(64, 3, padding='same', activation='relu'),\n",
    "        layers.BatchNormalization(),\n",
    "        layers.MaxPooling2D(2),\n",
    "        layers.Dropout(dropout_rate),\n",
    "        layers.Conv2D(128, 3, padding='same', activation='relu'),\n",
    "        layers.BatchNormalization(),\n",
    "        layers.MaxPooling2D(2),\n",
    "        layers.Dropout(dropout_rate),\n",
    "        layers.Conv2D(256, 3, padding='same', activation='relu'),\n",
    "        layers.BatchNormalization(),\n",
    "        layers.MaxPooling2D(2),\n",
    "        layers.Dropout(dropout_rate),\n",
    "        layers.GlobalAveragePooling2D(),\n",
    "        layers.Dense(512, activation='relu'),\n",
    "        layers.Dropout(dropout_rate * 2),\n",
    "        layers.Dense(1, activation='sigmoid')\n",
    "    ])\n",
    "    return model"
   ]
  },
  {
   "cell_type": "markdown",
   "id": "cell_12",
   "metadata": {},
   "source": [
    "## 5. Training Utilities"
   ]
  },
  {
   "cell_type": "code",
   "execution_count": 6,
   "id": "cell_13",
   "metadata": {},
   "outputs": [],
   "source": [
    "def get_callbacks(model_name):\n",
    "    return [\n",
    "        callbacks.EarlyStopping(\n",
    "            monitor='val_auc',\n",
    "            patience=7,\n",
    "            restore_best_weights=True,\n",
    "            mode='max'\n",
    "        ),\n",
    "        callbacks.ReduceLROnPlateau(\n",
    "            monitor='val_loss',\n",
    "            factor=0.5,\n",
    "            patience=5,\n",
    "            min_lr=1e-7\n",
    "        ),\n",
    "        callbacks.ModelCheckpoint(\n",
    "            filepath=os.path.join(RESULTS_DIR, f'{model_name}_best.h5'),\n",
    "            monitor='val_auc',\n",
    "            save_best_only=True,\n",
    "            mode='max'\n",
    "        )\n",
    "    ]\n",
    "\n",
    "def compile_model(model, lr=1e-3, class_weight_mult=1.5):\n",
    "    n_samples = len(train_y)\n",
    "    n_normal = np.sum(train_y == 0)\n",
    "    n_tumor = np.sum(train_y == 1)\n",
    "    \n",
    "    weight_normal = n_samples / (2 * n_normal)\n",
    "    weight_tumor = (n_samples / (2 * n_tumor)) * class_weight_mult\n",
    "    \n",
    "    model.compile(\n",
    "        optimizer=optimizers.Adam(learning_rate=lr),\n",
    "        loss='binary_crossentropy',\n",
    "        metrics=['accuracy', tf.keras.metrics.AUC(name='auc')]\n",
    "    )\n",
    "    \n",
    "    return {0: weight_normal, 1: weight_tumor}"
   ]
  },
  {
   "cell_type": "markdown",
   "id": "cell_14",
   "metadata": {},
   "source": [
    "## 6. Weight Management"
   ]
  },
  {
   "cell_type": "code",
   "execution_count": 9,
   "id": "cell_15",
   "metadata": {},
   "outputs": [],
   "source": [
    "def get_model_path(model_name):\n",
    "    return os.path.join(MODELS_DIR, f'{model_name}.weights.h5')\n",
    "\n",
    "def model_exists(model_name):\n",
    "    return os.path.exists(get_model_path(model_name))\n",
    "\n",
    "def save_model_weights(model, model_name):\n",
    "    path = get_model_path(model_name)\n",
    "    model.save_weights(path)\n",
    "    print(f'Saved: {model_name}')\n",
    "\n",
    "def load_model_weights(model, model_name):\n",
    "    path = get_model_path(model_name)\n",
    "    if os.path.exists(path):\n",
    "        model.load_weights(path)\n",
    "        print(f'Loaded: {model_name}')\n",
    "        return True\n",
    "    return False"
   ]
  },
  {
   "cell_type": "markdown",
   "id": "cell_16",
   "metadata": {},
   "source": [
    "## 7. Training Experiments"
   ]
  },
  {
   "cell_type": "markdown",
   "id": "cell_17",
   "metadata": {},
   "source": [
    "### 7.1 Simple CNN Baseline"
   ]
  },
  {
   "cell_type": "code",
   "execution_count": 10,
   "id": "cell_18",
   "metadata": {},
   "outputs": [
    {
     "name": "stdout",
     "output_type": "stream",
     "text": [
      "Epoch 1/15\n",
      "\u001b[1m313/313\u001b[0m \u001b[32m━━━━━━━━━━━━━━━━━━━━\u001b[0m\u001b[37m\u001b[0m \u001b[1m0s\u001b[0m 88ms/step - accuracy: 0.6225 - auc: 0.6790 - loss: 0.6305"
     ]
    },
    {
     "name": "stderr",
     "output_type": "stream",
     "text": [
      "WARNING:absl:You are saving your model as an HDF5 file via `model.save()` or `keras.saving.save_model(model)`. This file format is considered legacy. We recommend using instead the native Keras format, e.g. `model.save('my_model.keras')` or `keras.saving.save_model(model, 'my_model.keras')`. \n"
     ]
    },
    {
     "name": "stdout",
     "output_type": "stream",
     "text": [
      "\u001b[1m313/313\u001b[0m \u001b[32m━━━━━━━━━━━━━━━━━━━━\u001b[0m\u001b[37m\u001b[0m \u001b[1m39s\u001b[0m 122ms/step - accuracy: 0.6960 - auc: 0.7723 - loss: 0.5739 - val_accuracy: 0.6883 - val_auc: 0.7531 - val_loss: 0.6685 - learning_rate: 0.0010\n",
      "Epoch 2/15\n",
      "\u001b[1m313/313\u001b[0m \u001b[32m━━━━━━━━━━━━━━━━━━━━\u001b[0m\u001b[37m\u001b[0m \u001b[1m0s\u001b[0m 91ms/step - accuracy: 0.7602 - auc: 0.8302 - loss: 0.5109"
     ]
    },
    {
     "name": "stderr",
     "output_type": "stream",
     "text": [
      "WARNING:absl:You are saving your model as an HDF5 file via `model.save()` or `keras.saving.save_model(model)`. This file format is considered legacy. We recommend using instead the native Keras format, e.g. `model.save('my_model.keras')` or `keras.saving.save_model(model, 'my_model.keras')`. \n"
     ]
    },
    {
     "name": "stdout",
     "output_type": "stream",
     "text": [
      "\u001b[1m313/313\u001b[0m \u001b[32m━━━━━━━━━━━━━━━━━━━━\u001b[0m\u001b[37m\u001b[0m \u001b[1m39s\u001b[0m 123ms/step - accuracy: 0.7613 - auc: 0.8317 - loss: 0.5077 - val_accuracy: 0.7048 - val_auc: 0.7976 - val_loss: 0.6255 - learning_rate: 0.0010\n",
      "Epoch 3/15\n",
      "\u001b[1m313/313\u001b[0m \u001b[32m━━━━━━━━━━━━━━━━━━━━\u001b[0m\u001b[37m\u001b[0m \u001b[1m37s\u001b[0m 117ms/step - accuracy: 0.7706 - auc: 0.8458 - loss: 0.4884 - val_accuracy: 0.6927 - val_auc: 0.7830 - val_loss: 0.6584 - learning_rate: 0.0010\n",
      "Epoch 4/15\n",
      "\u001b[1m313/313\u001b[0m \u001b[32m━━━━━━━━━━━━━━━━━━━━\u001b[0m\u001b[37m\u001b[0m \u001b[1m36s\u001b[0m 115ms/step - accuracy: 0.7808 - auc: 0.8517 - loss: 0.4800 - val_accuracy: 0.6442 - val_auc: 0.7534 - val_loss: 0.7484 - learning_rate: 0.0010\n",
      "Epoch 5/15\n",
      "\u001b[1m313/313\u001b[0m \u001b[32m━━━━━━━━━━━━━━━━━━━━\u001b[0m\u001b[37m\u001b[0m \u001b[1m40s\u001b[0m 128ms/step - accuracy: 0.7843 - auc: 0.8567 - loss: 0.4728 - val_accuracy: 0.6448 - val_auc: 0.7779 - val_loss: 0.7604 - learning_rate: 0.0010\n",
      "Epoch 6/15\n",
      "\u001b[1m313/313\u001b[0m \u001b[32m━━━━━━━━━━━━━━━━━━━━\u001b[0m\u001b[37m\u001b[0m \u001b[1m0s\u001b[0m 103ms/step - accuracy: 0.7874 - auc: 0.8629 - loss: 0.4636"
     ]
    },
    {
     "name": "stderr",
     "output_type": "stream",
     "text": [
      "WARNING:absl:You are saving your model as an HDF5 file via `model.save()` or `keras.saving.save_model(model)`. This file format is considered legacy. We recommend using instead the native Keras format, e.g. `model.save('my_model.keras')` or `keras.saving.save_model(model, 'my_model.keras')`. \n"
     ]
    },
    {
     "name": "stdout",
     "output_type": "stream",
     "text": [
      "\u001b[1m313/313\u001b[0m \u001b[32m━━━━━━━━━━━━━━━━━━━━\u001b[0m\u001b[37m\u001b[0m \u001b[1m44s\u001b[0m 141ms/step - accuracy: 0.7833 - auc: 0.8591 - loss: 0.4691 - val_accuracy: 0.7232 - val_auc: 0.8216 - val_loss: 0.5556 - learning_rate: 0.0010\n",
      "Epoch 7/15\n",
      "\u001b[1m313/313\u001b[0m \u001b[32m━━━━━━━━━━━━━━━━━━━━\u001b[0m\u001b[37m\u001b[0m \u001b[1m45s\u001b[0m 145ms/step - accuracy: 0.7875 - auc: 0.8644 - loss: 0.4613 - val_accuracy: 0.7192 - val_auc: 0.8125 - val_loss: 0.5870 - learning_rate: 0.0010\n",
      "Epoch 8/15\n",
      "\u001b[1m313/313\u001b[0m \u001b[32m━━━━━━━━━━━━━━━━━━━━\u001b[0m\u001b[37m\u001b[0m \u001b[1m44s\u001b[0m 141ms/step - accuracy: 0.7911 - auc: 0.8665 - loss: 0.4574 - val_accuracy: 0.7139 - val_auc: 0.7999 - val_loss: 0.5750 - learning_rate: 0.0010\n",
      "Epoch 9/15\n",
      "\u001b[1m313/313\u001b[0m \u001b[32m━━━━━━━━━━━━━━━━━━━━\u001b[0m\u001b[37m\u001b[0m \u001b[1m0s\u001b[0m 109ms/step - accuracy: 0.7954 - auc: 0.8688 - loss: 0.4548"
     ]
    },
    {
     "name": "stderr",
     "output_type": "stream",
     "text": [
      "WARNING:absl:You are saving your model as an HDF5 file via `model.save()` or `keras.saving.save_model(model)`. This file format is considered legacy. We recommend using instead the native Keras format, e.g. `model.save('my_model.keras')` or `keras.saving.save_model(model, 'my_model.keras')`. \n"
     ]
    },
    {
     "name": "stdout",
     "output_type": "stream",
     "text": [
      "\u001b[1m313/313\u001b[0m \u001b[32m━━━━━━━━━━━━━━━━━━━━\u001b[0m\u001b[37m\u001b[0m \u001b[1m47s\u001b[0m 149ms/step - accuracy: 0.7928 - auc: 0.8697 - loss: 0.4530 - val_accuracy: 0.7374 - val_auc: 0.8460 - val_loss: 0.5246 - learning_rate: 0.0010\n",
      "Epoch 10/15\n",
      "\u001b[1m313/313\u001b[0m \u001b[32m━━━━━━━━━━━━━━━━━━━━\u001b[0m\u001b[37m\u001b[0m \u001b[1m46s\u001b[0m 147ms/step - accuracy: 0.7972 - auc: 0.8713 - loss: 0.4502 - val_accuracy: 0.6217 - val_auc: 0.7174 - val_loss: 0.8054 - learning_rate: 0.0010\n",
      "Epoch 11/15\n",
      "\u001b[1m313/313\u001b[0m \u001b[32m━━━━━━━━━━━━━━━━━━━━\u001b[0m\u001b[37m\u001b[0m \u001b[1m45s\u001b[0m 144ms/step - accuracy: 0.7970 - auc: 0.8747 - loss: 0.4453 - val_accuracy: 0.6676 - val_auc: 0.7747 - val_loss: 0.6762 - learning_rate: 0.0010\n",
      "Epoch 12/15\n",
      "\u001b[1m313/313\u001b[0m \u001b[32m━━━━━━━━━━━━━━━━━━━━\u001b[0m\u001b[37m\u001b[0m \u001b[1m41s\u001b[0m 131ms/step - accuracy: 0.7976 - auc: 0.8748 - loss: 0.4451 - val_accuracy: 0.6364 - val_auc: 0.7642 - val_loss: 0.7420 - learning_rate: 0.0010\n",
      "Epoch 13/15\n",
      "\u001b[1m313/313\u001b[0m \u001b[32m━━━━━━━━━━━━━━━━━━━━\u001b[0m\u001b[37m\u001b[0m \u001b[1m38s\u001b[0m 121ms/step - accuracy: 0.7974 - auc: 0.8755 - loss: 0.4440 - val_accuracy: 0.5705 - val_auc: 0.6853 - val_loss: 0.8982 - learning_rate: 0.0010\n",
      "Epoch 14/15\n",
      "\u001b[1m313/313\u001b[0m \u001b[32m━━━━━━━━━━━━━━━━━━━━\u001b[0m\u001b[37m\u001b[0m \u001b[1m36s\u001b[0m 116ms/step - accuracy: 0.8022 - auc: 0.8798 - loss: 0.4371 - val_accuracy: 0.6910 - val_auc: 0.8008 - val_loss: 0.6610 - learning_rate: 0.0010\n",
      "Epoch 15/15\n",
      "\u001b[1m313/313\u001b[0m \u001b[32m━━━━━━━━━━━━━━━━━━━━\u001b[0m\u001b[37m\u001b[0m \u001b[1m36s\u001b[0m 116ms/step - accuracy: 0.8113 - auc: 0.8879 - loss: 0.4228 - val_accuracy: 0.7061 - val_auc: 0.8224 - val_loss: 0.5902 - learning_rate: 5.0000e-04\n",
      "Saved: simple_cnn\n"
     ]
    }
   ],
   "source": [
    "model = create_simple_cnn()\n",
    "class_weights = compile_model(model)\n",
    "\n",
    "if not model_exists('simple_cnn'):\n",
    "    history_cnn = model.fit(\n",
    "        train_generator,\n",
    "        epochs=15,\n",
    "        validation_data=valid_generator,\n",
    "        callbacks=get_callbacks('simple_cnn'),\n",
    "        verbose=1\n",
    "    )\n",
    "    save_model_weights(model, 'simple_cnn')\n",
    "else:\n",
    "    load_model_weights(model, 'simple_cnn')\n",
    "    history_cnn = None\n",
    "\n",
    "cnn_model = model"
   ]
  },
  {
   "cell_type": "markdown",
   "id": "cell_19",
   "metadata": {},
   "source": [
    "### 7.2 EfficientNet"
   ]
  },
  {
   "cell_type": "code",
   "execution_count": 11,
   "id": "cell_20",
   "metadata": {},
   "outputs": [
    {
     "name": "stdout",
     "output_type": "stream",
     "text": [
      "Epoch 1/30\n",
      "\u001b[1m313/313\u001b[0m \u001b[32m━━━━━━━━━━━━━━━━━━━━\u001b[0m\u001b[37m\u001b[0m \u001b[1m0s\u001b[0m 171ms/step - accuracy: 0.7429 - auc: 0.8251 - loss: 0.6589"
     ]
    },
    {
     "name": "stderr",
     "output_type": "stream",
     "text": [
      "WARNING:absl:You are saving your model as an HDF5 file via `model.save()` or `keras.saving.save_model(model)`. This file format is considered legacy. We recommend using instead the native Keras format, e.g. `model.save('my_model.keras')` or `keras.saving.save_model(model, 'my_model.keras')`. \n"
     ]
    },
    {
     "name": "stdout",
     "output_type": "stream",
     "text": [
      "\u001b[1m313/313\u001b[0m \u001b[32m━━━━━━━━━━━━━━━━━━━━\u001b[0m\u001b[37m\u001b[0m \u001b[1m74s\u001b[0m 230ms/step - accuracy: 0.7732 - auc: 0.8554 - loss: 0.5925 - val_accuracy: 0.6698 - val_auc: 0.7223 - val_loss: 1.3360 - learning_rate: 0.0010\n",
      "Epoch 2/30\n",
      "\u001b[1m313/313\u001b[0m \u001b[32m━━━━━━━━━━━━━━━━━━━━\u001b[0m\u001b[37m\u001b[0m \u001b[1m0s\u001b[0m 171ms/step - accuracy: 0.8071 - auc: 0.8907 - loss: 0.5105"
     ]
    },
    {
     "name": "stderr",
     "output_type": "stream",
     "text": [
      "WARNING:absl:You are saving your model as an HDF5 file via `model.save()` or `keras.saving.save_model(model)`. This file format is considered legacy. We recommend using instead the native Keras format, e.g. `model.save('my_model.keras')` or `keras.saving.save_model(model, 'my_model.keras')`. \n"
     ]
    },
    {
     "name": "stdout",
     "output_type": "stream",
     "text": [
      "\u001b[1m313/313\u001b[0m \u001b[32m━━━━━━━━━━━━━━━━━━━━\u001b[0m\u001b[37m\u001b[0m \u001b[1m71s\u001b[0m 228ms/step - accuracy: 0.8141 - auc: 0.8959 - loss: 0.4988 - val_accuracy: 0.7826 - val_auc: 0.8930 - val_loss: 0.5053 - learning_rate: 0.0010\n",
      "Epoch 3/30\n",
      "\u001b[1m313/313\u001b[0m \u001b[32m━━━━━━━━━━━━━━━━━━━━\u001b[0m\u001b[37m\u001b[0m \u001b[1m71s\u001b[0m 228ms/step - accuracy: 0.8242 - auc: 0.9084 - loss: 0.4684 - val_accuracy: 0.7675 - val_auc: 0.8762 - val_loss: 0.5203 - learning_rate: 0.0010\n",
      "Epoch 4/30\n",
      "\u001b[1m313/313\u001b[0m \u001b[32m━━━━━━━━━━━━━━━━━━━━\u001b[0m\u001b[37m\u001b[0m \u001b[1m72s\u001b[0m 231ms/step - accuracy: 0.8317 - auc: 0.9144 - loss: 0.4546 - val_accuracy: 0.5746 - val_auc: 0.8169 - val_loss: 0.9441 - learning_rate: 0.0010\n",
      "Epoch 5/30\n",
      "\u001b[1m313/313\u001b[0m \u001b[32m━━━━━━━━━━━━━━━━━━━━\u001b[0m\u001b[37m\u001b[0m \u001b[1m71s\u001b[0m 228ms/step - accuracy: 0.8328 - auc: 0.9186 - loss: 0.4444 - val_accuracy: 0.6640 - val_auc: 0.8697 - val_loss: 0.8429 - learning_rate: 0.0010\n",
      "Epoch 6/30\n",
      "\u001b[1m313/313\u001b[0m \u001b[32m━━━━━━━━━━━━━━━━━━━━\u001b[0m\u001b[37m\u001b[0m \u001b[1m72s\u001b[0m 231ms/step - accuracy: 0.8396 - auc: 0.9238 - loss: 0.4288 - val_accuracy: 0.7028 - val_auc: 0.7681 - val_loss: 0.8197 - learning_rate: 0.0010\n",
      "Epoch 7/30\n",
      "\u001b[1m313/313\u001b[0m \u001b[32m━━━━━━━━━━━━━━━━━━━━\u001b[0m\u001b[37m\u001b[0m \u001b[1m74s\u001b[0m 235ms/step - accuracy: 0.8419 - auc: 0.9267 - loss: 0.4210 - val_accuracy: 0.6960 - val_auc: 0.8646 - val_loss: 0.7570 - learning_rate: 0.0010\n",
      "Epoch 8/30\n",
      "\u001b[1m313/313\u001b[0m \u001b[32m━━━━━━━━━━━━━━━━━━━━\u001b[0m\u001b[37m\u001b[0m \u001b[1m70s\u001b[0m 222ms/step - accuracy: 0.8549 - auc: 0.9354 - loss: 0.3964 - val_accuracy: 0.7054 - val_auc: 0.8553 - val_loss: 0.7854 - learning_rate: 5.0000e-04\n",
      "Epoch 9/30\n",
      "\u001b[1m313/313\u001b[0m \u001b[32m━━━━━━━━━━━━━━━━━━━━\u001b[0m\u001b[37m\u001b[0m \u001b[1m0s\u001b[0m 177ms/step - accuracy: 0.8521 - auc: 0.9380 - loss: 0.3872"
     ]
    },
    {
     "name": "stderr",
     "output_type": "stream",
     "text": [
      "WARNING:absl:You are saving your model as an HDF5 file via `model.save()` or `keras.saving.save_model(model)`. This file format is considered legacy. We recommend using instead the native Keras format, e.g. `model.save('my_model.keras')` or `keras.saving.save_model(model, 'my_model.keras')`. \n"
     ]
    },
    {
     "name": "stdout",
     "output_type": "stream",
     "text": [
      "\u001b[1m313/313\u001b[0m \u001b[32m━━━━━━━━━━━━━━━━━━━━\u001b[0m\u001b[37m\u001b[0m \u001b[1m76s\u001b[0m 242ms/step - accuracy: 0.8558 - auc: 0.9392 - loss: 0.3839 - val_accuracy: 0.8080 - val_auc: 0.8984 - val_loss: 0.4321 - learning_rate: 5.0000e-04\n",
      "Epoch 10/30\n",
      "\u001b[1m313/313\u001b[0m \u001b[32m━━━━━━━━━━━━━━━━━━━━\u001b[0m\u001b[37m\u001b[0m \u001b[1m76s\u001b[0m 243ms/step - accuracy: 0.8637 - auc: 0.9425 - loss: 0.3747 - val_accuracy: 0.7699 - val_auc: 0.8913 - val_loss: 0.5190 - learning_rate: 5.0000e-04\n",
      "Epoch 11/30\n",
      "\u001b[1m313/313\u001b[0m \u001b[32m━━━━━━━━━━━━━━━━━━━━\u001b[0m\u001b[37m\u001b[0m \u001b[1m70s\u001b[0m 223ms/step - accuracy: 0.8648 - auc: 0.9437 - loss: 0.3708 - val_accuracy: 0.7357 - val_auc: 0.8879 - val_loss: 0.6610 - learning_rate: 5.0000e-04\n",
      "Epoch 12/30\n",
      "\u001b[1m313/313\u001b[0m \u001b[32m━━━━━━━━━━━━━━━━━━━━\u001b[0m\u001b[37m\u001b[0m \u001b[1m70s\u001b[0m 224ms/step - accuracy: 0.8669 - auc: 0.9454 - loss: 0.3655 - val_accuracy: 0.7282 - val_auc: 0.8894 - val_loss: 0.6559 - learning_rate: 5.0000e-04\n",
      "Epoch 13/30\n",
      "\u001b[1m313/313\u001b[0m \u001b[32m━━━━━━━━━━━━━━━━━━━━\u001b[0m\u001b[37m\u001b[0m \u001b[1m0s\u001b[0m 166ms/step - accuracy: 0.8719 - auc: 0.9475 - loss: 0.3579"
     ]
    },
    {
     "name": "stderr",
     "output_type": "stream",
     "text": [
      "WARNING:absl:You are saving your model as an HDF5 file via `model.save()` or `keras.saving.save_model(model)`. This file format is considered legacy. We recommend using instead the native Keras format, e.g. `model.save('my_model.keras')` or `keras.saving.save_model(model, 'my_model.keras')`. \n"
     ]
    },
    {
     "name": "stdout",
     "output_type": "stream",
     "text": [
      "\u001b[1m313/313\u001b[0m \u001b[32m━━━━━━━━━━━━━━━━━━━━\u001b[0m\u001b[37m\u001b[0m \u001b[1m70s\u001b[0m 223ms/step - accuracy: 0.8738 - auc: 0.9490 - loss: 0.3531 - val_accuracy: 0.6942 - val_auc: 0.9116 - val_loss: 0.8200 - learning_rate: 5.0000e-04\n",
      "Epoch 14/30\n",
      "\u001b[1m313/313\u001b[0m \u001b[32m━━━━━━━━━━━━━━━━━━━━\u001b[0m\u001b[37m\u001b[0m \u001b[1m70s\u001b[0m 225ms/step - accuracy: 0.8789 - auc: 0.9507 - loss: 0.3482 - val_accuracy: 0.7006 - val_auc: 0.8868 - val_loss: 0.8244 - learning_rate: 5.0000e-04\n",
      "Epoch 15/30\n",
      "\u001b[1m313/313\u001b[0m \u001b[32m━━━━━━━━━━━━━━━━━━━━\u001b[0m\u001b[37m\u001b[0m \u001b[1m72s\u001b[0m 231ms/step - accuracy: 0.8833 - auc: 0.9561 - loss: 0.3285 - val_accuracy: 0.7062 - val_auc: 0.8780 - val_loss: 0.8716 - learning_rate: 2.5000e-04\n",
      "Epoch 16/30\n",
      "\u001b[1m313/313\u001b[0m \u001b[32m━━━━━━━━━━━━━━━━━━━━\u001b[0m\u001b[37m\u001b[0m \u001b[1m0s\u001b[0m 169ms/step - accuracy: 0.8909 - auc: 0.9585 - loss: 0.3189"
     ]
    },
    {
     "name": "stderr",
     "output_type": "stream",
     "text": [
      "WARNING:absl:You are saving your model as an HDF5 file via `model.save()` or `keras.saving.save_model(model)`. This file format is considered legacy. We recommend using instead the native Keras format, e.g. `model.save('my_model.keras')` or `keras.saving.save_model(model, 'my_model.keras')`. \n"
     ]
    },
    {
     "name": "stdout",
     "output_type": "stream",
     "text": [
      "\u001b[1m313/313\u001b[0m \u001b[32m━━━━━━━━━━━━━━━━━━━━\u001b[0m\u001b[37m\u001b[0m \u001b[1m71s\u001b[0m 225ms/step - accuracy: 0.8906 - auc: 0.9591 - loss: 0.3165 - val_accuracy: 0.8238 - val_auc: 0.9282 - val_loss: 0.4468 - learning_rate: 2.5000e-04\n",
      "Epoch 17/30\n",
      "\u001b[1m313/313\u001b[0m \u001b[32m━━━━━━━━━━━━━━━━━━━━\u001b[0m\u001b[37m\u001b[0m \u001b[1m71s\u001b[0m 228ms/step - accuracy: 0.8887 - auc: 0.9597 - loss: 0.3144 - val_accuracy: 0.7989 - val_auc: 0.9269 - val_loss: 0.5241 - learning_rate: 2.5000e-04\n",
      "Epoch 18/30\n",
      "\u001b[1m313/313\u001b[0m \u001b[32m━━━━━━━━━━━━━━━━━━━━\u001b[0m\u001b[37m\u001b[0m \u001b[1m71s\u001b[0m 227ms/step - accuracy: 0.8906 - auc: 0.9599 - loss: 0.3138 - val_accuracy: 0.8264 - val_auc: 0.9168 - val_loss: 0.4399 - learning_rate: 2.5000e-04\n",
      "Epoch 19/30\n",
      "\u001b[1m313/313\u001b[0m \u001b[32m━━━━━━━━━━━━━━━━━━━━\u001b[0m\u001b[37m\u001b[0m \u001b[1m0s\u001b[0m 168ms/step - accuracy: 0.8910 - auc: 0.9603 - loss: 0.3118"
     ]
    },
    {
     "name": "stderr",
     "output_type": "stream",
     "text": [
      "WARNING:absl:You are saving your model as an HDF5 file via `model.save()` or `keras.saving.save_model(model)`. This file format is considered legacy. We recommend using instead the native Keras format, e.g. `model.save('my_model.keras')` or `keras.saving.save_model(model, 'my_model.keras')`. \n"
     ]
    },
    {
     "name": "stdout",
     "output_type": "stream",
     "text": [
      "\u001b[1m313/313\u001b[0m \u001b[32m━━━━━━━━━━━━━━━━━━━━\u001b[0m\u001b[37m\u001b[0m \u001b[1m70s\u001b[0m 225ms/step - accuracy: 0.8921 - auc: 0.9614 - loss: 0.3076 - val_accuracy: 0.8053 - val_auc: 0.9286 - val_loss: 0.5250 - learning_rate: 2.5000e-04\n",
      "Epoch 20/30\n",
      "\u001b[1m313/313\u001b[0m \u001b[32m━━━━━━━━━━━━━━━━━━━━\u001b[0m\u001b[37m\u001b[0m \u001b[1m71s\u001b[0m 227ms/step - accuracy: 0.8995 - auc: 0.9646 - loss: 0.2947 - val_accuracy: 0.8222 - val_auc: 0.9277 - val_loss: 0.4482 - learning_rate: 1.2500e-04\n",
      "Epoch 21/30\n",
      "\u001b[1m313/313\u001b[0m \u001b[32m━━━━━━━━━━━━━━━━━━━━\u001b[0m\u001b[37m\u001b[0m \u001b[1m70s\u001b[0m 225ms/step - accuracy: 0.8989 - auc: 0.9653 - loss: 0.2919 - val_accuracy: 0.7361 - val_auc: 0.9201 - val_loss: 0.6438 - learning_rate: 1.2500e-04\n",
      "Epoch 22/30\n",
      "\u001b[1m313/313\u001b[0m \u001b[32m━━━━━━━━━━━━━━━━━━━━\u001b[0m\u001b[37m\u001b[0m \u001b[1m70s\u001b[0m 224ms/step - accuracy: 0.9028 - auc: 0.9664 - loss: 0.2864 - val_accuracy: 0.8140 - val_auc: 0.9180 - val_loss: 0.4950 - learning_rate: 1.2500e-04\n",
      "Epoch 23/30\n",
      "\u001b[1m313/313\u001b[0m \u001b[32m━━━━━━━━━━━━━━━━━━━━\u001b[0m\u001b[37m\u001b[0m \u001b[1m70s\u001b[0m 223ms/step - accuracy: 0.9031 - auc: 0.9671 - loss: 0.2838 - val_accuracy: 0.7413 - val_auc: 0.9187 - val_loss: 0.6842 - learning_rate: 1.2500e-04\n",
      "Epoch 24/30\n",
      "\u001b[1m313/313\u001b[0m \u001b[32m━━━━━━━━━━━━━━━━━━━━\u001b[0m\u001b[37m\u001b[0m \u001b[1m568s\u001b[0m 2s/step - accuracy: 0.9036 - auc: 0.9677 - loss: 0.2818 - val_accuracy: 0.7629 - val_auc: 0.9174 - val_loss: 0.6404 - learning_rate: 1.2500e-04\n",
      "Epoch 25/30\n",
      "\u001b[1m313/313\u001b[0m \u001b[32m━━━━━━━━━━━━━━━━━━━━\u001b[0m\u001b[37m\u001b[0m \u001b[1m0s\u001b[0m 181ms/step - accuracy: 0.9082 - auc: 0.9691 - loss: 0.2752"
     ]
    },
    {
     "name": "stderr",
     "output_type": "stream",
     "text": [
      "WARNING:absl:You are saving your model as an HDF5 file via `model.save()` or `keras.saving.save_model(model)`. This file format is considered legacy. We recommend using instead the native Keras format, e.g. `model.save('my_model.keras')` or `keras.saving.save_model(model, 'my_model.keras')`. \n"
     ]
    },
    {
     "name": "stdout",
     "output_type": "stream",
     "text": [
      "\u001b[1m313/313\u001b[0m \u001b[32m━━━━━━━━━━━━━━━━━━━━\u001b[0m\u001b[37m\u001b[0m \u001b[1m75s\u001b[0m 241ms/step - accuracy: 0.9065 - auc: 0.9686 - loss: 0.2770 - val_accuracy: 0.7985 - val_auc: 0.9343 - val_loss: 0.5301 - learning_rate: 6.2500e-05\n",
      "Epoch 26/30\n",
      "\u001b[1m313/313\u001b[0m \u001b[32m━━━━━━━━━━━━━━━━━━━━\u001b[0m\u001b[37m\u001b[0m \u001b[1m0s\u001b[0m 174ms/step - accuracy: 0.9039 - auc: 0.9686 - loss: 0.2776"
     ]
    },
    {
     "name": "stderr",
     "output_type": "stream",
     "text": [
      "WARNING:absl:You are saving your model as an HDF5 file via `model.save()` or `keras.saving.save_model(model)`. This file format is considered legacy. We recommend using instead the native Keras format, e.g. `model.save('my_model.keras')` or `keras.saving.save_model(model, 'my_model.keras')`. \n"
     ]
    },
    {
     "name": "stdout",
     "output_type": "stream",
     "text": [
      "\u001b[1m313/313\u001b[0m \u001b[32m━━━━━━━━━━━━━━━━━━━━\u001b[0m\u001b[37m\u001b[0m \u001b[1m73s\u001b[0m 233ms/step - accuracy: 0.9062 - auc: 0.9690 - loss: 0.2753 - val_accuracy: 0.7991 - val_auc: 0.9348 - val_loss: 0.5230 - learning_rate: 6.2500e-05\n",
      "Epoch 27/30\n",
      "\u001b[1m313/313\u001b[0m \u001b[32m━━━━━━━━━━━━━━━━━━━━\u001b[0m\u001b[37m\u001b[0m \u001b[1m73s\u001b[0m 234ms/step - accuracy: 0.9054 - auc: 0.9694 - loss: 0.2732 - val_accuracy: 0.7590 - val_auc: 0.9263 - val_loss: 0.6754 - learning_rate: 6.2500e-05\n",
      "Epoch 28/30\n",
      "\u001b[1m313/313\u001b[0m \u001b[32m━━━━━━━━━━━━━━━━━━━━\u001b[0m\u001b[37m\u001b[0m \u001b[1m73s\u001b[0m 232ms/step - accuracy: 0.9085 - auc: 0.9698 - loss: 0.2718 - val_accuracy: 0.8105 - val_auc: 0.9291 - val_loss: 0.5086 - learning_rate: 6.2500e-05\n",
      "Epoch 29/30\n",
      "\u001b[1m313/313\u001b[0m \u001b[32m━━━━━━━━━━━━━━━━━━━━\u001b[0m\u001b[37m\u001b[0m \u001b[1m74s\u001b[0m 236ms/step - accuracy: 0.9085 - auc: 0.9702 - loss: 0.2697 - val_accuracy: 0.7827 - val_auc: 0.9264 - val_loss: 0.6127 - learning_rate: 6.2500e-05\n",
      "Epoch 30/30\n",
      "\u001b[1m313/313\u001b[0m \u001b[32m━━━━━━━━━━━━━━━━━━━━\u001b[0m\u001b[37m\u001b[0m \u001b[1m71s\u001b[0m 228ms/step - accuracy: 0.9067 - auc: 0.9698 - loss: 0.2720 - val_accuracy: 0.7731 - val_auc: 0.9222 - val_loss: 0.6244 - learning_rate: 3.1250e-05\n",
      "Saved: efficientnet\n"
     ]
    }
   ],
   "source": [
    "model = create_efficientnet()\n",
    "class_weights = compile_model(model)\n",
    "\n",
    "if not model_exists('efficientnet'):\n",
    "    history_eff = model.fit(\n",
    "        train_generator,\n",
    "        epochs=30,\n",
    "        validation_data=valid_generator,\n",
    "        callbacks=get_callbacks('efficientnet'),\n",
    "        class_weight=class_weights,\n",
    "        verbose=1\n",
    "    )\n",
    "    save_model_weights(model, 'efficientnet')\n",
    "else:\n",
    "    load_model_weights(model, 'efficientnet')\n",
    "    history_eff = None\n",
    "\n",
    "efficientnet_model = model"
   ]
  },
  {
   "cell_type": "markdown",
   "id": "cell_21",
   "metadata": {},
   "source": [
    "## 8. Model Evaluation"
   ]
  },
  {
   "cell_type": "code",
   "execution_count": 12,
   "id": "cell_22",
   "metadata": {},
   "outputs": [
    {
     "name": "stdout",
     "output_type": "stream",
     "text": [
      "\n",
      "Simple CNN:\n",
      "  AUC: 0.8460\n",
      "  Accuracy: 0.7374\n",
      "              precision    recall  f1-score   support\n",
      "\n",
      "      Normal     0.6880    0.8696    0.7682     16399\n",
      "       Tumor     0.8224    0.6050    0.6971     16369\n",
      "\n",
      "    accuracy                         0.7374     32768\n",
      "   macro avg     0.7552    0.7373    0.7327     32768\n",
      "weighted avg     0.7552    0.7374    0.7327     32768\n",
      "\n"
     ]
    },
    {
     "data": {
      "image/png": "[encoded data removed]",
      "text/plain": [
       "<Figure size 600x500 with 2 Axes>"
      ]
     },
     "metadata": {},
     "output_type": "display_data"
    },
    {
     "name": "stdout",
     "output_type": "stream",
     "text": [
      "\n",
      "EfficientNet:\n",
      "  AUC: 0.9355\n",
      "  Accuracy: 0.7991\n",
      "              precision    recall  f1-score   support\n",
      "\n",
      "      Normal     0.7223    0.9724    0.8289     16399\n",
      "       Tumor     0.9576    0.6255    0.7567     16369\n",
      "\n",
      "    accuracy                         0.7991     32768\n",
      "   macro avg     0.8400    0.7989    0.7928     32768\n",
      "weighted avg     0.8399    0.7991    0.7929     32768\n",
      "\n"
     ]
    },
    {
     "data": {
      "image/png": "[encoded data removed]",
      "text/plain": [
       "<Figure size 600x500 with 2 Axes>"
      ]
     },
     "metadata": {},
     "output_type": "display_data"
    }
   ],
   "source": [
    "def evaluate_model(model, model_name):\n",
    "    valid_x_norm = normalize_01(valid_x)\n",
    "    y_pred_proba = model.predict(valid_x_norm, batch_size=64, verbose=0).flatten()\n",
    "    y_pred = (y_pred_proba >= 0.5).astype(int)\n",
    "    \n",
    "    auc = roc_auc_score(valid_y, y_pred_proba)\n",
    "    acc = accuracy_score(valid_y, y_pred)\n",
    "    \n",
    "    print(f'\\n{model_name}:')\n",
    "    print(f'  AUC: {auc:.4f}')\n",
    "    print(f'  Accuracy: {acc:.4f}')\n",
    "    print(classification_report(valid_y, y_pred, target_names=['Normal', 'Tumor'], digits=4))\n",
    "    \n",
    "    cm = confusion_matrix(valid_y, y_pred)\n",
    "    plt.figure(figsize=(6, 5))\n",
    "    sns.heatmap(cm, annot=True, fmt='d', cmap='Blues',\n",
    "                xticklabels=['Normal', 'Tumor'],\n",
    "                yticklabels=['Normal', 'Tumor'])\n",
    "    plt.title(f'{model_name} Confusion Matrix')\n",
    "    plt.ylabel('True')\n",
    "    plt.xlabel('Predicted')\n",
    "    plt.tight_layout()\n",
    "    plt.show()\n",
    "    \n",
    "    return y_pred_proba\n",
    "\n",
    "cnn_probs = evaluate_model(cnn_model, 'Simple CNN')\n",
    "eff_probs = evaluate_model(efficientnet_model, 'EfficientNet')"
   ]
  },
  {
   "cell_type": "markdown",
   "id": "cell_23",
   "metadata": {},
   "source": [
    "## 9. Threshold Optimization"
   ]
  },
  {
   "cell_type": "code",
   "execution_count": 13,
   "id": "cell_24",
   "metadata": {},
   "outputs": [
    {
     "data": {
      "image/png": "[encoded data removed]",
      "text/plain": [
       "<Figure size 1400x500 with 2 Axes>"
      ]
     },
     "metadata": {},
     "output_type": "display_data"
    },
    {
     "name": "stdout",
     "output_type": "stream",
     "text": [
      "\n",
      "F1-Optimal Threshold: 0.060\n",
      "  F1: 0.8597\n",
      "  FN: 1,934 (11.8%)\n",
      "  FP: 2,779 (16.9%)\n"
     ]
    }
   ],
   "source": [
    "def find_optimal_threshold(y_true, y_pred_proba, plot=True):\n",
    "    thresholds = np.linspace(0.05, 0.95, 91)\n",
    "    results = []\n",
    "    \n",
    "    for threshold in thresholds:\n",
    "        y_pred = (y_pred_proba >= threshold).astype(int)\n",
    "        cm = confusion_matrix(y_true, y_pred)\n",
    "        tn, fp, fn, tp = cm.ravel()\n",
    "        \n",
    "        precision = tp / (tp + fp) if (tp + fp) > 0 else 0\n",
    "        recall = tp / (tp + fn) if (tp + fn) > 0 else 0\n",
    "        f1 = 2 * precision * recall / (precision + recall) if (precision + recall) > 0 else 0\n",
    "        \n",
    "        results.append({\n",
    "            'threshold': threshold,\n",
    "            'f1': f1,\n",
    "            'recall': recall,\n",
    "            'precision': precision,\n",
    "            'fn': fn,\n",
    "            'fp': fp,\n",
    "            'fn_rate': fn / (tp + fn),\n",
    "            'fp_rate': fp / (fp + tn)\n",
    "        })\n",
    "    \n",
    "    df = pd.DataFrame(results)\n",
    "    f1_optimal = df.loc[df['f1'].idxmax()]\n",
    "    recall_90 = df.loc[(df['recall'] - 0.90).abs().idxmin()]\n",
    "    \n",
    "    if plot:\n",
    "        fig, axes = plt.subplots(1, 2, figsize=(14, 5))\n",
    "        \n",
    "        ax = axes[0]\n",
    "        ax.plot(df['threshold'], df['f1'], label='F1', linewidth=2)\n",
    "        ax.plot(df['threshold'], df['recall'], label='Recall', linewidth=2)\n",
    "        ax.plot(df['threshold'], df['precision'], label='Precision', linewidth=2)\n",
    "        ax.axvline(f1_optimal['threshold'], color='red', linestyle='--', alpha=0.7,\n",
    "                   label=f'F1-Optimal: {f1_optimal[\"threshold\"]:.3f}')\n",
    "        ax.set_xlabel('Threshold')\n",
    "        ax.set_ylabel('Score')\n",
    "        ax.set_title('Metrics vs Threshold')\n",
    "        ax.legend()\n",
    "        ax.grid(True, alpha=0.3)\n",
    "        \n",
    "        ax = axes[1]\n",
    "        ax.plot(df['fp_rate'], df['fn_rate'], linewidth=3, color='navy')\n",
    "        ax.scatter(f1_optimal['fp_rate'], f1_optimal['fn_rate'],\n",
    "                   color='red', s=200, marker='*', zorder=5,\n",
    "                   label=f'F1-Optimal ({f1_optimal[\"threshold\"]:.3f})')\n",
    "        ax.set_xlabel('False Positive Rate')\n",
    "        ax.set_ylabel('False Negative Rate')\n",
    "        ax.set_title('FN vs FP Trade-off')\n",
    "        ax.legend()\n",
    "        ax.grid(True, alpha=0.3)\n",
    "        \n",
    "        plt.tight_layout()\n",
    "        plt.show()\n",
    "    \n",
    "    print(f'\\nF1-Optimal Threshold: {f1_optimal[\"threshold\"]:.3f}')\n",
    "    print(f'  F1: {f1_optimal[\"f1\"]:.4f}')\n",
    "    print(f'  FN: {int(f1_optimal[\"fn\"]):,} ({f1_optimal[\"fn_rate\"]:.1%})')\n",
    "    print(f'  FP: {int(f1_optimal[\"fp\"]):,} ({f1_optimal[\"fp_rate\"]:.1%})')\n",
    "    \n",
    "    return {\n",
    "        'f1_optimal': f1_optimal.to_dict(),\n",
    "        'recall_90': recall_90.to_dict(),\n",
    "        'all_results': df\n",
    "    }\n",
    "\n",
    "threshold_results = find_optimal_threshold(valid_y, eff_probs, plot=True)\n",
    "OPTIMAL_THRESHOLD = threshold_results['f1_optimal']['threshold']"
   ]
  },
  {
   "cell_type": "markdown",
   "id": "cell_25",
   "metadata": {},
   "source": [
    "### 9.1 Apply Optimal Threshold"
   ]
  },
  {
   "cell_type": "code",
   "execution_count": 14,
   "id": "cell_26",
   "metadata": {},
   "outputs": [
    {
     "name": "stdout",
     "output_type": "stream",
     "text": [
      "EfficientNet with Optimal Threshold (0.060):\n",
      "  AUC: 0.9355\n",
      "  Accuracy: 0.8562\n",
      "\n",
      "              precision    recall  f1-score   support\n",
      "\n",
      "      Normal     0.8757    0.8305    0.8525     16399\n",
      "       Tumor     0.8386    0.8818    0.8597     16369\n",
      "\n",
      "    accuracy                         0.8562     32768\n",
      "   macro avg     0.8571    0.8562    0.8561     32768\n",
      "weighted avg     0.8571    0.8562    0.8561     32768\n",
      "\n"
     ]
    },
    {
     "data": {
      "image/png": "[encoded data removed]",
      "text/plain": [
       "<Figure size 600x500 with 2 Axes>"
      ]
     },
     "metadata": {},
     "output_type": "display_data"
    }
   ],
   "source": [
    "y_pred_optimal = (eff_probs >= OPTIMAL_THRESHOLD).astype(int)\n",
    "\n",
    "auc = roc_auc_score(valid_y, eff_probs)\n",
    "acc = accuracy_score(valid_y, y_pred_optimal)\n",
    "\n",
    "print(f'EfficientNet with Optimal Threshold ({OPTIMAL_THRESHOLD:.3f}):')\n",
    "print(f'  AUC: {auc:.4f}')\n",
    "print(f'  Accuracy: {acc:.4f}\\n')\n",
    "print(classification_report(valid_y, y_pred_optimal,\n",
    "                            target_names=['Normal', 'Tumor'], digits=4))\n",
    "\n",
    "cm = confusion_matrix(valid_y, y_pred_optimal)\n",
    "plt.figure(figsize=(6, 5))\n",
    "sns.heatmap(cm, annot=True, fmt='d', cmap='RdYlGn_r',\n",
    "            xticklabels=['Normal', 'Tumor'],\n",
    "            yticklabels=['Normal', 'Tumor'])\n",
    "plt.title(f'EfficientNet Confusion Matrix (Threshold={OPTIMAL_THRESHOLD:.3f})')\n",
    "plt.ylabel('True')\n",
    "plt.xlabel('Predicted')\n",
    "plt.tight_layout()\n",
    "plt.show()"
   ]
  },
  {
   "cell_type": "markdown",
   "id": "cell_27",
   "metadata": {},
   "source": [
    "## 10. Hyperparameter Tuning"
   ]
  },
  {
   "cell_type": "code",
   "execution_count": 15,
   "id": "cell_28",
   "metadata": {},
   "outputs": [],
   "source": [
    "class ExperimentTracker:\n",
    "    def __init__(self):\n",
    "        self.experiments = []\n",
    "        self.results_file = os.path.join(RESULTS_DIR, 'experiments.json')\n",
    "        if os.path.exists(self.results_file):\n",
    "            with open(self.results_file, 'r') as f:\n",
    "                self.experiments = json.load(f)\n",
    "    \n",
    "    def log(self, exp_name, params, metrics):\n",
    "        self.experiments.append({\n",
    "            'name': exp_name,\n",
    "            'timestamp': datetime.now().isoformat(),\n",
    "            'params': params,\n",
    "            'metrics': metrics\n",
    "        })\n",
    "        with open(self.results_file, 'w') as f:\n",
    "            json.dump(self.experiments, f, indent=2)\n",
    "        print(f'Logged: {exp_name}')\n",
    "    \n",
    "    def summary(self):\n",
    "        if not self.experiments:\n",
    "            print('No experiments logged')\n",
    "            return None\n",
    "        \n",
    "        data = []\n",
    "        for exp in self.experiments:\n",
    "            row = {'name': exp['name']}\n",
    "            row.update(exp['params'])\n",
    "            row.update(exp['metrics'])\n",
    "            data.append(row)\n",
    "        \n",
    "        df = pd.DataFrame(data)\n",
    "        if 'val_auc' in df.columns:\n",
    "            df = df.sort_values('val_auc', ascending=False)\n",
    "            print(df.to_string(index=False))\n",
    "            best = df.iloc[0]\n",
    "            print(f'\\nBest: {best[\"name\"]} (AUC: {best[\"val_auc\"]:.4f})')\n",
    "        return df\n",
    "\n",
    "tracker = ExperimentTracker()"
   ]
  },
  {
   "cell_type": "markdown",
   "id": "cell_29",
   "metadata": {},
   "source": [
    "### 10.1 Hyperparameter Grid"
   ]
  },
  {
   "cell_type": "code",
   "execution_count": 16,
   "id": "cell_30",
   "metadata": {},
   "outputs": [
    {
     "name": "stdout",
     "output_type": "stream",
     "text": [
      "Hyperparameter Search: 4 experiments\n",
      "Est. time: 180 mins\n"
     ]
    }
   ],
   "source": [
    "hyperparameter_grid = {\n",
    "    'class_weight_mult': [1.0, 1.2],\n",
    "    'learning_rate': [5e-4, 1e-3],\n",
    "    'dropout_rate': [0.3]\n",
    "}\n",
    "\n",
    "total_experiments = (len(hyperparameter_grid['class_weight_mult']) * \n",
    "                    len(hyperparameter_grid['learning_rate']) * \n",
    "                    len(hyperparameter_grid['dropout_rate']))\n",
    "\n",
    "print(f'Hyperparameter Search: {total_experiments} experiments')\n",
    "print(f'Est. time: {total_experiments * 45} mins')\n",
    "\n",
    "FORCE_RETRAIN = False"
   ]
  },
  {
   "cell_type": "markdown",
   "id": "cell_31",
   "metadata": {},
   "source": [
    "### 10.2 Run Grid Search"
   ]
  },
  {
   "cell_type": "code",
   "execution_count": null,
   "id": "cell_32",
   "metadata": {},
   "outputs": [
    {
     "name": "stdout",
     "output_type": "stream",
     "text": [
      "\n",
      "[1/4] exp_01_cw1.0_lr5e-04_dr0.3\n",
      "Epoch 1/20\n",
      "313/313 - 75s - 239ms/step - accuracy: 0.7757 - auc: 0.8498 - loss: 0.4951 - val_accuracy: 0.5513 - val_auc: 0.6532 - val_loss: 1.1047 - learning_rate: 5.0000e-04\n",
      "Epoch 2/20\n",
      "313/313 - 72s - 229ms/step - accuracy: 0.8066 - auc: 0.8848 - loss: 0.4294 - val_accuracy: 0.6736 - val_auc: 0.8782 - val_loss: 0.7753 - learning_rate: 5.0000e-04\n",
      "Epoch 3/20\n",
      "313/313 - 1444s - 5s/step - accuracy: 0.8224 - auc: 0.8984 - loss: 0.4044 - val_accuracy: 0.5871 - val_auc: 0.8651 - val_loss: 1.0365 - learning_rate: 5.0000e-04\n",
      "Epoch 4/20\n",
      "313/313 - 261s - 834ms/step - accuracy: 0.8281 - auc: 0.9066 - loss: 0.3883 - val_accuracy: 0.5858 - val_auc: 0.8731 - val_loss: 1.1849 - learning_rate: 5.0000e-04\n",
      "Epoch 5/20\n",
      "313/313 - 75s - 239ms/step - accuracy: 0.8331 - auc: 0.9129 - loss: 0.3755 - val_accuracy: 0.7166 - val_auc: 0.8803 - val_loss: 0.6955 - learning_rate: 5.0000e-04\n",
      "Epoch 6/20\n",
      "313/313 - 77s - 246ms/step - accuracy: 0.8381 - auc: 0.9153 - loss: 0.3703 - val_accuracy: 0.7654 - val_auc: 0.9050 - val_loss: 0.5760 - learning_rate: 5.0000e-04\n",
      "Epoch 7/20\n",
      "313/313 - 74s - 236ms/step - accuracy: 0.8440 - auc: 0.9208 - loss: 0.3587 - val_accuracy: 0.5991 - val_auc: 0.6718 - val_loss: 1.2013 - learning_rate: 5.0000e-04\n",
      "Epoch 8/20\n",
      "313/313 - 83s - 265ms/step - accuracy: 0.8467 - auc: 0.9248 - loss: 0.3495 - val_accuracy: 0.7467 - val_auc: 0.8752 - val_loss: 0.5741 - learning_rate: 5.0000e-04\n",
      "Epoch 9/20\n",
      "313/313 - 84s - 269ms/step - accuracy: 0.8518 - auc: 0.9283 - loss: 0.3417 - val_accuracy: 0.6843 - val_auc: 0.8618 - val_loss: 1.0617 - learning_rate: 5.0000e-04\n",
      "Epoch 10/20\n",
      "313/313 - 74s - 236ms/step - accuracy: 0.8561 - auc: 0.9314 - loss: 0.3361 - val_accuracy: 0.7319 - val_auc: 0.8738 - val_loss: 0.8256 - learning_rate: 5.0000e-04\n",
      "Epoch 11/20\n",
      "313/313 - 74s - 236ms/step - accuracy: 0.8594 - auc: 0.9354 - loss: 0.3255 - val_accuracy: 0.8296 - val_auc: 0.9106 - val_loss: 0.4276 - learning_rate: 5.0000e-04\n",
      "Epoch 12/20\n",
      "313/313 - 71s - 227ms/step - accuracy: 0.8605 - auc: 0.9363 - loss: 0.3228 - val_accuracy: 0.7164 - val_auc: 0.8966 - val_loss: 0.6878 - learning_rate: 5.0000e-04\n",
      "Epoch 13/20\n",
      "313/313 - 74s - 237ms/step - accuracy: 0.8681 - auc: 0.9410 - loss: 0.3116 - val_accuracy: 0.5670 - val_auc: 0.6971 - val_loss: 1.8155 - learning_rate: 5.0000e-04\n",
      "Epoch 14/20\n",
      "313/313 - 75s - 239ms/step - accuracy: 0.8706 - auc: 0.9432 - loss: 0.3053 - val_accuracy: 0.6998 - val_auc: 0.8446 - val_loss: 0.7935 - learning_rate: 5.0000e-04\n",
      "Epoch 15/20\n",
      "313/313 - 72s - 231ms/step - accuracy: 0.8801 - auc: 0.9504 - loss: 0.2853 - val_accuracy: 0.6699 - val_auc: 0.8571 - val_loss: 1.0664 - learning_rate: 2.5000e-04\n",
      "Epoch 16/20\n",
      "313/313 - 72s - 229ms/step - accuracy: 0.8864 - auc: 0.9538 - loss: 0.2751 - val_accuracy: 0.5945 - val_auc: 0.8026 - val_loss: 1.5715 - learning_rate: 2.5000e-04\n",
      "\n",
      "F1-Optimal Threshold: 0.170\n",
      "  F1: 0.8457\n",
      "  FN: 1,412 (8.6%)\n",
      "  FP: 4,046 (24.7%)\n",
      "Logged: exp_01_cw1.0_lr5e-04_dr0.3\n",
      "Saved: exp_01_cw1.0_lr5e-04_dr0.3\n",
      "\n",
      "[2/4] exp_02_cw1.0_lr1e-03_dr0.3\n",
      "Epoch 1/20\n",
      "313/313 - 75s - 239ms/step - accuracy: 0.7742 - auc: 0.8453 - loss: 0.5056 - val_accuracy: 0.5695 - val_auc: 0.7368 - val_loss: 1.8821 - learning_rate: 1.0000e-03\n",
      "Epoch 2/20\n",
      "313/313 - 72s - 231ms/step - accuracy: 0.8158 - auc: 0.8916 - loss: 0.4181 - val_accuracy: 0.6904 - val_auc: 0.7720 - val_loss: 0.8569 - learning_rate: 1.0000e-03\n",
      "Epoch 3/20\n",
      "313/313 - 72s - 229ms/step - accuracy: 0.8231 - auc: 0.9003 - loss: 0.4012 - val_accuracy: 0.4317 - val_auc: 0.5123 - val_loss: 1.5684 - learning_rate: 1.0000e-03\n",
      "Epoch 4/20\n",
      "313/313 - 72s - 231ms/step - accuracy: 0.8329 - auc: 0.9100 - loss: 0.3819 - val_accuracy: 0.5538 - val_auc: 0.7503 - val_loss: 1.6526 - learning_rate: 1.0000e-03\n",
      "Epoch 5/20\n",
      "313/313 - 74s - 237ms/step - accuracy: 0.8364 - auc: 0.9150 - loss: 0.3714 - val_accuracy: 0.5803 - val_auc: 0.7460 - val_loss: 1.2010 - learning_rate: 1.0000e-03\n",
      "Epoch 6/20\n",
      "313/313 - 78s - 248ms/step - accuracy: 0.8476 - auc: 0.9246 - loss: 0.3507 - val_accuracy: 0.7521 - val_auc: 0.8980 - val_loss: 0.5921 - learning_rate: 5.0000e-04\n",
      "Epoch 7/20\n",
      "313/313 - 73s - 234ms/step - accuracy: 0.8532 - auc: 0.9292 - loss: 0.3392 - val_accuracy: 0.6272 - val_auc: 0.8537 - val_loss: 1.0078 - learning_rate: 5.0000e-04\n",
      "Epoch 8/20\n",
      "313/313 - 71s - 227ms/step - accuracy: 0.8584 - auc: 0.9343 - loss: 0.3282 - val_accuracy: 0.6230 - val_auc: 0.8222 - val_loss: 1.0276 - learning_rate: 5.0000e-04\n",
      "Epoch 9/20\n",
      "313/313 - 72s - 232ms/step - accuracy: 0.8611 - auc: 0.9367 - loss: 0.3216 - val_accuracy: 0.5394 - val_auc: 0.7056 - val_loss: 2.0577 - learning_rate: 5.0000e-04\n",
      "Epoch 10/20\n",
      "313/313 - 72s - 230ms/step - accuracy: 0.8699 - auc: 0.9431 - loss: 0.3054 - val_accuracy: 0.7853 - val_auc: 0.9142 - val_loss: 0.6128 - learning_rate: 2.5000e-04\n",
      "Epoch 11/20\n",
      "313/313 - 75s - 240ms/step - accuracy: 0.8751 - auc: 0.9453 - loss: 0.2995 - val_accuracy: 0.6491 - val_auc: 0.8497 - val_loss: 0.9996 - learning_rate: 2.5000e-04\n",
      "Epoch 12/20\n",
      "313/313 - 73s - 232ms/step - accuracy: 0.8762 - auc: 0.9461 - loss: 0.2972 - val_accuracy: 0.6277 - val_auc: 0.8437 - val_loss: 1.2395 - learning_rate: 2.5000e-04\n",
      "Epoch 13/20\n",
      "313/313 - 86s - 276ms/step - accuracy: 0.8802 - auc: 0.9501 - loss: 0.2860 - val_accuracy: 0.7288 - val_auc: 0.8838 - val_loss: 0.7720 - learning_rate: 1.2500e-04\n",
      "Epoch 14/20\n",
      "313/313 - 77s - 245ms/step - accuracy: 0.8819 - auc: 0.9520 - loss: 0.2805 - val_accuracy: 0.7439 - val_auc: 0.8913 - val_loss: 0.7304 - learning_rate: 1.2500e-04\n",
      "Epoch 15/20\n",
      "313/313 - 72s - 230ms/step - accuracy: 0.8831 - auc: 0.9530 - loss: 0.2778 - val_accuracy: 0.7308 - val_auc: 0.8980 - val_loss: 0.7462 - learning_rate: 1.2500e-04\n",
      "\n",
      "F1-Optimal Threshold: 0.050\n",
      "  F1: 0.8344\n",
      "  FN: 2,393 (14.6%)\n",
      "  FP: 3,156 (19.2%)\n",
      "Logged: exp_02_cw1.0_lr1e-03_dr0.3\n",
      "Saved: exp_02_cw1.0_lr1e-03_dr0.3\n",
      "\n",
      "[3/4] exp_03_cw1.2_lr5e-04_dr0.3\n",
      "Epoch 1/20\n",
      "313/313 - 78s - 248ms/step - accuracy: 0.7753 - auc: 0.8477 - loss: 0.5442 - val_accuracy: 0.6763 - val_auc: 0.7128 - val_loss: 1.0786 - learning_rate: 5.0000e-04\n",
      "Epoch 2/20\n",
      "313/313 - 72s - 228ms/step - accuracy: 0.8102 - auc: 0.8882 - loss: 0.4642 - val_accuracy: 0.7774 - val_auc: 0.8824 - val_loss: 0.4968 - learning_rate: 5.0000e-04\n",
      "Epoch 3/20\n",
      "313/313 - 72s - 229ms/step - accuracy: 0.8189 - auc: 0.8986 - loss: 0.4426 - val_accuracy: 0.6096 - val_auc: 0.8376 - val_loss: 0.9711 - learning_rate: 5.0000e-04\n",
      "Epoch 4/20\n",
      "313/313 - 73s - 233ms/step - accuracy: 0.8267 - auc: 0.9072 - loss: 0.4234 - val_accuracy: 0.6606 - val_auc: 0.8762 - val_loss: 0.8981 - learning_rate: 5.0000e-04\n",
      "Epoch 5/20\n",
      "313/313 - 73s - 232ms/step - accuracy: 0.8360 - auc: 0.9144 - loss: 0.4084 - val_accuracy: 0.5199 - val_auc: 0.5866 - val_loss: 1.9036 - learning_rate: 5.0000e-04\n",
      "Epoch 6/20\n",
      "313/313 - 72s - 229ms/step - accuracy: 0.8444 - auc: 0.9249 - loss: 0.3824 - val_accuracy: 0.5946 - val_auc: 0.7878 - val_loss: 1.2699 - learning_rate: 2.5000e-04\n",
      "Epoch 7/20\n",
      "313/313 - 77s - 247ms/step - accuracy: 0.8518 - auc: 0.9314 - loss: 0.3658 - val_accuracy: 0.7170 - val_auc: 0.8791 - val_loss: 0.8500 - learning_rate: 2.5000e-04\n",
      "\n",
      "F1-Optimal Threshold: 0.140\n",
      "  F1: 0.8044\n",
      "  FN: 2,123 (13.0%)\n",
      "  FP: 4,803 (29.3%)\n",
      "Logged: exp_03_cw1.2_lr5e-04_dr0.3\n",
      "Saved: exp_03_cw1.2_lr5e-04_dr0.3\n",
      "\n",
      "[4/4] exp_04_cw1.2_lr1e-03_dr0.3\n",
      "Epoch 1/20\n"
     ]
    }
   ],
   "source": [
    "experiment_num = 0\n",
    "\n",
    "for class_weight_mult in hyperparameter_grid['class_weight_mult']:\n",
    "    for learning_rate in hyperparameter_grid['learning_rate']:\n",
    "        for dropout_rate in hyperparameter_grid['dropout_rate']:\n",
    "            \n",
    "            experiment_num += 1\n",
    "            exp_name = f'exp_{experiment_num:02d}_cw{class_weight_mult:.1f}_lr{learning_rate:.0e}_dr{dropout_rate:.1f}'\n",
    "            \n",
    "            print(f'\\n[{experiment_num}/{total_experiments}] {exp_name}')\n",
    "            \n",
    "            if model_exists(exp_name) and not FORCE_RETRAIN:\n",
    "                print('  Skipping (already trained)')\n",
    "                continue\n",
    "            \n",
    "            model = create_efficientnet(dropout_rate=dropout_rate)\n",
    "            class_weights = compile_model(model, lr=learning_rate, class_weight_mult=class_weight_mult)\n",
    "            \n",
    "            history = model.fit(\n",
    "                train_generator,\n",
    "                epochs=20,\n",
    "                validation_data=valid_generator,\n",
    "                callbacks=[\n",
    "                    callbacks.EarlyStopping(monitor='val_auc', patience=5,\n",
    "                                           restore_best_weights=True, mode='max'),\n",
    "                    callbacks.ReduceLROnPlateau(monitor='val_loss', factor=0.5,\n",
    "                                               patience=3, min_lr=1e-7)\n",
    "                ],\n",
    "                class_weight=class_weights,\n",
    "                verbose=2\n",
    "            )\n",
    "            \n",
    "            valid_x_norm = normalize_01(valid_x)\n",
    "            y_pred_proba = model.predict(valid_x_norm, batch_size=64, verbose=0).flatten()\n",
    "            \n",
    "            threshold_res = find_optimal_threshold(valid_y, y_pred_proba, plot=False)\n",
    "            opt_threshold = threshold_res['f1_optimal']['threshold']\n",
    "            y_pred = (y_pred_proba >= opt_threshold).astype(int)\n",
    "            \n",
    "            val_auc = roc_auc_score(valid_y, y_pred_proba)\n",
    "            val_acc = accuracy_score(valid_y, y_pred)\n",
    "            \n",
    "            cm = confusion_matrix(valid_y, y_pred)\n",
    "            tn, fp, fn, tp = cm.ravel()\n",
    "            \n",
    "            tracker.log(\n",
    "                exp_name,\n",
    "                {\n",
    "                    'class_weight_mult': class_weight_mult,\n",
    "                    'learning_rate': learning_rate,\n",
    "                    'dropout_rate': dropout_rate,\n",
    "                    'optimal_threshold': opt_threshold\n",
    "                },\n",
    "                {\n",
    "                    'val_auc': val_auc,\n",
    "                    'val_acc': val_acc,\n",
    "                    'fn_rate': fn / (tp + fn),\n",
    "                    'fp_rate': fp / (fp + tn),\n",
    "                    'fn_count': int(fn),\n",
    "                    'fp_count': int(fp)\n",
    "                }\n",
    "            )\n",
    "            \n",
    "            save_model_weights(model, exp_name)\n",
    "            del model\n",
    "            gc.collect()\n",
    "\n",
    "print('\\nGrid search complete!')\n",
    "results_df = tracker.summary()"
   ]
  },
  {
   "cell_type": "markdown",
   "id": "cell_33",
   "metadata": {},
   "source": [
    "## 11. Results Summary"
   ]
  },
  {
   "cell_type": "code",
   "execution_count": null,
   "id": "cell_34",
   "metadata": {},
   "outputs": [],
   "source": [
    "if results_df is not None and len(results_df) > 0:\n",
    "    fig, axes = plt.subplots(1, 2, figsize=(14, 5))\n",
    "    \n",
    "    ax = axes[0]\n",
    "    for lr in results_df['learning_rate'].unique():\n",
    "        subset = results_df[results_df['learning_rate'] == lr]\n",
    "        ax.plot(subset['class_weight_mult'], subset['val_auc'],\n",
    "                marker='o', linewidth=2, markersize=8, label=f'LR={lr:.0e}')\n",
    "    ax.set_xlabel('Class Weight Multiplier')\n",
    "    ax.set_ylabel('Validation AUC')\n",
    "    ax.set_title('AUC vs Class Weight')\n",
    "    ax.legend()\n",
    "    ax.grid(True, alpha=0.3)\n",
    "    \n",
    "    ax = axes[1]\n",
    "    ax.scatter(results_df['fp_rate'], results_df['fn_rate'],\n",
    "               c=results_df['val_auc'], cmap='RdYlGn',\n",
    "               s=200, alpha=0.7, edgecolors='black')\n",
    "    ax.set_xlabel('False Positive Rate')\n",
    "    ax.set_ylabel('False Negative Rate')\n",
    "    ax.set_title('FN vs FP Trade-off (colored by AUC)')\n",
    "    plt.colorbar(ax.collections[0], ax=ax, label='Val AUC')\n",
    "    ax.grid(True, alpha=0.3)\n",
    "    \n",
    "    plt.tight_layout()\n",
    "    plt.show()\n",
    "else:\n",
    "    print('No experiments to visualize yet')"
   ]
  }
 ],
 "metadata": {
  "kernelspec": {
   "display_name": "cancer-env",
   "language": "python",
   "name": "python3"
  },
  "language_info": {
   "codemirror_mode": {
    "name": "ipython",
    "version": 3
   },
   "file_extension": ".py",
   "mimetype": "text/x-python",
   "name": "python",
   "nbconvert_exporter": "python",
   "pygments_lexer": "ipython3",
   "version": "3.12.5"
  }
 },
 "nbformat": 4,
 "nbformat_minor": 5
}
